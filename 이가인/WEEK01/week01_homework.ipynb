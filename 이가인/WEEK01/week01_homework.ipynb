{
  "nbformat": 4,
  "nbformat_minor": 0,
  "metadata": {
    "colab": {
      "name": "week01_homework.ipynb",
      "provenance": []
    },
    "kernelspec": {
      "name": "python3",
      "display_name": "Python 3"
    },
    "language_info": {
      "name": "python"
    }
  },
  "cells": [
    {
      "cell_type": "markdown",
      "source": [
        "\n",
        "# week 01 Homework\n",
        "\n",
        "**Lv.1** \n",
        "**K번째 수**  \n",
        "**소수 만들기**  \n",
        "**음양 더하기**  \n",
        "**없는 숫자 더하기**  \n",
        "**로또의 최고 순위와 최저 순위**\n"
      ],
      "metadata": {
        "id": "ZEAtXz_mr9fQ"
      }
    },
    {
      "cell_type": "markdown",
      "source": [
        "\n",
        "\n",
        "---\n",
        "\n"
      ],
      "metadata": {
        "id": "UoTj4pDsuNr5"
      }
    },
    {
      "cell_type": "markdown",
      "source": [
        "**<K번째 수>**\n",
        "\n",
        "배열 array의 i번째 숫자부터 j번째 숫자까지 자르고 정렬했을 때, k번째에 있는 수를 구하려 합니다.\n",
        "\n",
        "예를 들어 array가 [1, 5, 2, 6, 3, 7, 4], i = 2, j = 5, k = 3이라면\n",
        "\n",
        "1. array의 2번째부터 5번째까지 자르면 [5, 2, 6, 3]입니다.\n",
        "2. 1에서 나온 배열을 정렬하면 [2, 3, 5, 6]입니다.\n",
        "3. 2에서 나온 배열의 3번째 숫자는 5입니다.\n",
        "\n",
        "배열 array, [i, j, k]를 원소로 가진 2차원 배열 commands가 매개변수로 주어질 때, commands의 모든 원소에 대해 앞서 설명한 연산을 적용했을 때 나온 결과를 배열에 담아 return 하도록 solution 함수를 작성해주세요.\n",
        "\n",
        "제한사항\n",
        "* array의 길이는 1 이상 100 이하입니다.\n",
        "* array의 각 원소는 1 이상 100 이하입니다.\n",
        "* commands의 길이는 1 이상 50 이하입니다.\n",
        "commands의 각 원소는 길이가 3입니다.\n",
        "\n",
        "\n",
        "입출력 예\n",
        "\n",
        "array\t[1, 5, 2, 6, 3, 7, 4]\n",
        "\n",
        "commands [[2, 5, 3], [4, 4, 1], [1, 7, 3]]\n",
        "\n",
        "return [5, 6, 3]\n",
        "\t\n",
        "\n",
        "입출력 예 설명\n",
        "\n",
        "[1, 5, 2, 6, 3, 7, 4]를 2번째부터 5번째까지 자른 후 정렬합니다. [2, 3, 5, 6]의 세 번째 숫자는 5입니다.\n",
        "\n",
        "[1, 5, 2, 6, 3, 7, 4]를 4번째부터 4번째까지 자른 후 정렬합니다. [6]의 첫 번째 숫자는 6입니다.\n",
        "\n",
        "[1, 5, 2, 6, 3, 7, 4]를 1번째부터 7번째까지 자릅니다. [1, 2, 3, 4, 5, 6, 7]의 세 번째 숫자는 3입니다."
      ],
      "metadata": {
        "id": "qziU8cq8tPUF"
      }
    },
    {
      "cell_type": "code",
      "source": [
        "def solution(array, commands):\n",
        "    answer = []\n",
        "    for i in range(len(commands)):\n",
        "        arr = array[commands[i][0]-1:commands[i][1]]\n",
        "        arr.sort()\n",
        "        answer.append(arr[commands[i][2]-1])\n",
        "    \n",
        "    return answer"
      ],
      "metadata": {
        "id": "V57lT6LItDld"
      },
      "execution_count": 1,
      "outputs": []
    },
    {
      "cell_type": "markdown",
      "source": [
        "\n",
        "\n",
        "---\n",
        "\n"
      ],
      "metadata": {
        "id": "ycDAws6EuKaD"
      }
    },
    {
      "cell_type": "markdown",
      "source": [
        "주어진 숫자 중 3개의 수를 더했을 때 소수가 되는 경우의 개수를 구하려고 합니다. 숫자들이 들어있는 배열 nums가 매개변수로 주어질 때, nums에 있는 숫자들 중 서로 다른 3개를 골라 더했을 때 소수가 되는 경우의 개수를 return 하도록 solution 함수를 완성해주세요.\n",
        "\n",
        "제한사항\n",
        "* nums에 들어있는 숫자의 개수는 3개 이상 50개 이하입니다.\n",
        "* nums의 각 원소는 1 이상 1,000 이하의 자연수이며, 중복된 숫자가 들어있지 않습니다."
      ],
      "metadata": {
        "id": "qwkI4-DOuMoG"
      }
    },
    {
      "cell_type": "code",
      "execution_count": null,
      "metadata": {
        "id": "pKVqabFxr5E5"
      },
      "outputs": [],
      "source": [
        "from itertools import combinations\n",
        "\n",
        "def is_prime(num):\n",
        "    if num == 0 or num ==1:\n",
        "        return False\n",
        "    else:\n",
        "        for n in range(2, (num//2)+1):\n",
        "            if num % n == 0:\n",
        "                return False\n",
        "        return True\n",
        "    \n",
        "def solution(nums):\n",
        "    answer = 0\n",
        "    cmb = list(combinations(nums, 3))\n",
        "    for i in cmb:\n",
        "        sum = i[0] + i[1] + i[2]\n",
        "        if is_prime(sum):\n",
        "            answer += 1\n",
        "\n",
        "    return answer\n",
        "nums=[1, 2, 3, 4]\n",
        "print(solution(nums))"
      ]
    },
    {
      "cell_type": "markdown",
      "source": [
        "\n",
        "\n",
        "---\n",
        "\n"
      ],
      "metadata": {
        "id": "3yC6mXd9v5FF"
      }
    },
    {
      "cell_type": "markdown",
      "source": [
        "**<음양 더하기>**\n",
        "\n",
        "어떤 정수들이 있습니다. 이 정수들의 절댓값을 차례대로 담은 정수 배열 absolutes와 이 정수들의 부호를 차례대로 담은 불리언 배열 signs가 매개변수로 주어집니다. 실제 정수들의 합을 구하여 return 하도록 solution 함수를 완성해주세요.\n",
        "\n",
        "제한사항\n",
        "* absolutes의 길이는 1 이상 1,000 이하입니다.\n",
        "* absolutes의 모든 수는 각각 1 이상 1,000 이하입니다.\n",
        "* signs의 길이는 absolutes의 길이와 같습니다.\n",
        "signs[i] 가 참이면 absolutes[i] 의 실제 정수가 양수임을, 그렇지 않으면 음수임을 의미합니다."
      ],
      "metadata": {
        "id": "T1uAGgPsv61S"
      }
    },
    {
      "cell_type": "code",
      "source": [
        ""
      ],
      "metadata": {
        "id": "8dbFKWkzwaO_"
      },
      "execution_count": null,
      "outputs": []
    },
    {
      "cell_type": "markdown",
      "source": [
        "\n",
        "\n",
        "---\n",
        "\n"
      ],
      "metadata": {
        "id": "E9Pp-P8quQLL"
      }
    },
    {
      "cell_type": "markdown",
      "source": [
        "**<없는 숫자 더하기>**\n",
        "\n",
        "0부터 9까지의 숫자 중 일부가 들어있는 정수 배열 numbers가 매개변수로 주어집니다. numbers에서 찾을 수 없는 0부터 9까지의 숫자를 모두 찾아 더한 수를 return 하도록 solution 함수를 완성해주세요.\n",
        "\n",
        "제한사항\n",
        "* 1 ≤ numbers의 길이 ≤ 9\n",
        "* 0 ≤ numbers의 모든 원소 ≤ 9\n",
        "* numbers의 모든 원소는 서로 다릅니다.\n",
        "."
      ],
      "metadata": {
        "id": "zBTrOzuxuSLR"
      }
    },
    {
      "cell_type": "code",
      "source": [
        "def solution(numbers):\n",
        "    answer = 10 * 9 / 2 \n",
        "    for i in range(len(numbers)):\n",
        "        answer -= numbers[i]    \n",
        "    return answer"
      ],
      "metadata": {
        "id": "nkP_AW8Fr_oH"
      },
      "execution_count": null,
      "outputs": []
    },
    {
      "cell_type": "markdown",
      "source": [
        "\n",
        "\n",
        "---\n",
        "\n"
      ],
      "metadata": {
        "id": "-xxD8OesuQpy"
      }
    },
    {
      "cell_type": "markdown",
      "source": [
        "로또 6/45(이하 '로또'로 표기)는 1부터 45까지의 숫자 중 6개를 찍어서 맞히는 대표적인 복권입니다. 아래는 로또의 순위를 정하는 방식입니다. \n",
        "\n",
        "<순위\t당첨 내용>\n",
        "* 1\t6개 번호가 모두 일치\n",
        "* 2\t5개 번호가 일치\n",
        "* 3\t4개 번호가 일치\n",
        "* 4\t3개 번호가 일치\n",
        "* 5\t2개 번호가 일치\n",
        "* 6(낙첨)\t그 외\n",
        "\n",
        "로또를 구매한 민우는 당첨 번호 발표일을 학수고대하고 있었습니다. 하지만, 민우의 동생이 로또에 낙서를 하여, 일부 번호를 알아볼 수 없게 되었습니다. 당첨 번호 발표 후, 민우는 자신이 구매했던 로또로 당첨이 가능했던 최고 순위와 최저 순위를 알아보고 싶어 졌습니다.\n",
        "\n",
        "알아볼 수 없는 번호를 0으로 표기하기로 하고, 민우가 구매한 로또 번호 6개가 44, 1, 0, 0, 31 25라고 가정해보겠습니다. 당첨 번호 6개가 31, 10, 45, 1, 6, 19라면, 당첨 가능한 최고 순위와 최저 순위의 한 예는 아래와 같습니다.\n",
        "\n",
        "당첨 번호\t/ 31\t10\t45\t1\t6\t19\t/ 결과\n",
        "\n",
        "최고 순위 번호\t/ 31\t0→10\t44\t1\t0→6\t25\t\n",
        "/ 4개 번호 일치, 3등\n",
        "\n",
        "최저 순위 번호\t/ 31\t0→11\t44\t1\t0→7\t25\t\n",
        "/ 2개 번호 일치, 5등\n",
        "\n",
        "* 순서와 상관없이, 구매한 로또에 당첨 번호와 일치하는 번호가 있으면 맞힌 걸로 인정됩니다.\n",
        "* 알아볼 수 없는 두 개의 번호를 각각 10, 6이라고 가정하면 3등에 당첨될 수 있습니다.\n",
        "3등을 만드는 다른 방법들도 존재합니다. \n",
        "* 하지만, 2등 이상으로 만드는 것은 불가능합니다.\n",
        "* 알아볼 수 없는 두 개의 번호를 각각 11, 7이라고 가정하면 5등에 당첨될 수 있습니다.\n",
        "5등을 만드는 다른 방법들도 존재합니다. 하지만, 6등(낙첨)으로 만드는 것은 불가능합니다.\n",
        "\n",
        "민우가 구매한 로또 번호를 담은 배열 lottos, 당첨 번호를 담은 배열 win_nums가 매개변수로 주어집니다. 이때, 당첨 가능한 최고 순위와 최저 순위를 차례대로 배열에 담아서 return 하도록 solution 함수를 완성해주세요.\n",
        "\n",
        "\n",
        "제한사항\n",
        "* lottos는 길이 6인 정수 배열입니다.\n",
        "* lottos의 모든 원소는 0 이상 45 이하인 정수입니다.\n",
        "* 0은 알아볼 수 없는 숫자를 의미합니다.\n",
        "0을 제외한 다른 숫자들은 lottos에 2개 이상 담겨있지 않습니다.\n",
        "* lottos의 원소들은 정렬되어 있지 않을 수도 있습니다.\n",
        "* win_nums은 길이 6인 정수 배열입니다.\n",
        "* win_nums의 모든 원소는 1 이상 45 이하인 정수입니다.\n",
        "* win_nums에는 같은 숫자가 2개 이상 담겨있지 않습니다.\n",
        "* win_nums의 원소들은 정렬되어 있지 않을 수도 있습니다.\n",
        "\n",
        "입출력 예\n",
        "lottos\twin_nums\tresult\n",
        "[44, 1, 0, 0, 31, 25]\t[31, 10, 45, 1, 6, 19]\t[3, 5]\n",
        "[0, 0, 0, 0, 0, 0]\t[38, 19, 20, 40, 15, 25]\t[1, 6]\n",
        "[45, 4, 35, 20, 3, 9]\t[20, 9, 3, 45, 4, 35]\t[1, 1]\n",
        "\n",
        "입출력 예 설명\n",
        "\n",
        "입출력 예 #1\n",
        "\n",
        "문제 예시와 같습니다.\n",
        "\n",
        "\n",
        "입출력 예 #2\n",
        "\n",
        "알아볼 수 없는 번호들이 아래와 같았다면, 1등과 6등에 당첨될 수 있습니다.\n",
        "\n",
        "당첨 번호\t38\t19\t20\t40\t15\t25\t결과\n",
        "\n",
        "최고 순위 번호\t0→38\t0→19\t0→20\t0→40\t0→15\t0→25\t6개 번호 일치, 1등\n",
        "\n",
        "최저 순위 번호\t0→21\t0→22\t0→23\t0→24\t0→26\t0→27\t0개 번호 일치, 6등\n",
        "\n",
        "입출력 예 #3\n",
        "민우가 구매한 로또의 번호와 당첨 번호가 모두 일치하므로, 최고 순위와 최저 순위는 모두 1등입니다."
      ],
      "metadata": {
        "id": "m9ezkAZNuZnI"
      }
    },
    {
      "cell_type": "code",
      "source": [
        "def solution(lottos, win_nums):\n",
        "    answer = []\n",
        "    count = 7\n",
        "    \n",
        "    for i in lottos:\n",
        "        if i == 0:\n",
        "            count -= 1\n",
        "        elif i in win_nums:\n",
        "            count -= 1\n",
        "    if count > 6:\n",
        "        answer.append(6)\n",
        "    else:\n",
        "        answer.append(count)\n",
        "    count = 7    \n",
        "    for j in lottos:\n",
        "        if j in win_nums:\n",
        "            count -= 1\n",
        "    if count > 6:\n",
        "        answer.append(6)\n",
        "    else:\n",
        "        answer.append(count)\n",
        "    \n",
        "    return answer"
      ],
      "metadata": {
        "id": "-WUiIqR5r_Oe"
      },
      "execution_count": null,
      "outputs": []
    }
  ]
}