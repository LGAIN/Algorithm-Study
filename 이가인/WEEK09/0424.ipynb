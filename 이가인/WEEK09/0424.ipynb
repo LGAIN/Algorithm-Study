{
 "cells": [
  {
   "cell_type": "code",
   "execution_count": 5,
   "metadata": {
    "scrolled": true
   },
   "outputs": [
    {
     "name": "stdout",
     "output_type": "stream",
     "text": [
      "3\n",
      "6\n"
     ]
    }
   ],
   "source": [
    "#10872\n",
    "def factorial(num):\n",
    "    if (num == 0 or num == 1):\n",
    "        return 1\n",
    "    else:\n",
    "        num *= factorial(num-1)\n",
    "    return num\n",
    "\n",
    "n = int(input())\n",
    "result = factorial(n)\n",
    "print(result)"
   ]
  },
  {
   "cell_type": "code",
   "execution_count": 7,
   "metadata": {},
   "outputs": [
    {
     "name": "stdout",
     "output_type": "stream",
     "text": [
      "10\n",
      "55\n"
     ]
    }
   ],
   "source": [
    "#10870\n",
    "def fibo(num):\n",
    "    if (num == 0):\n",
    "        return 0\n",
    "    elif (num == 1):\n",
    "        return 1\n",
    "    else:\n",
    "        num = fibo(num-1) + fibo(num - 2)\n",
    "    return num\n",
    "\n",
    "n = int(input())\n",
    "result = fibo(n)\n",
    "print(result)"
   ]
  },
  {
   "cell_type": "code",
   "execution_count": 11,
   "metadata": {},
   "outputs": [
    {
     "name": "stdout",
     "output_type": "stream",
     "text": [
      "27\n",
      "***************************\n",
      "* ** ** ** ** ** ** ** ** *\n",
      "***************************\n",
      "***   ******   ******   ***\n",
      "* *   * ** *   * ** *   * *\n",
      "***   ******   ******   ***\n",
      "***************************\n",
      "* ** ** ** ** ** ** ** ** *\n",
      "***************************\n",
      "*********         *********\n",
      "* ** ** *         * ** ** *\n",
      "*********         *********\n",
      "***   ***         ***   ***\n",
      "* *   * *         * *   * *\n",
      "***   ***         ***   ***\n",
      "*********         *********\n",
      "* ** ** *         * ** ** *\n",
      "*********         *********\n",
      "***************************\n",
      "* ** ** ** ** ** ** ** ** *\n",
      "***************************\n",
      "***   ******   ******   ***\n",
      "* *   * ** *   * ** *   * *\n",
      "***   ******   ******   ***\n",
      "***************************\n",
      "* ** ** ** ** ** ** ** ** *\n",
      "***************************\n"
     ]
    }
   ],
   "source": [
    "#2447\n",
    "\n",
    "def star(N):\n",
    "    global Map\n",
    "    \n",
    "    if N == 3:\n",
    "        Map[0][:3] = Map[2][:3] = [1]*3\n",
    "        Map[1][:3] = [1, 0, 1]\n",
    "        return\n",
    "    \n",
    "    a = N//3\n",
    "    star(N//3)\n",
    "    for i in range(3):\n",
    "        for j in range(3):\n",
    "            if i == 1 and j == 1:\n",
    "                continue\n",
    "            for k in range(a):\n",
    "                Map[a*i+k][a*j:a*(j+1)] = Map[k][:a]\n",
    "                \n",
    "N = int(input())\n",
    "\n",
    "Map = [[0 for i in range(N)] for i in range(N)]\n",
    "star(N)\n",
    "for i in Map:\n",
    "    for j in i:\n",
    "        if j:\n",
    "            print('*', end = '')\n",
    "        else:\n",
    "            print(' ', end = '')\n",
    "    print()\n",
    "    "
   ]
  },
  {
   "cell_type": "code",
   "execution_count": 14,
   "metadata": {
    "scrolled": true
   },
   "outputs": [
    {
     "name": "stdout",
     "output_type": "stream",
     "text": [
      "3\n",
      "7\n",
      "1 3\n",
      "1 2\n",
      "3 2\n",
      "1 3\n",
      "2 1\n",
      "2 3\n",
      "1 3\n"
     ]
    }
   ],
   "source": [
    "#11729\n",
    "def hanoi(num, start, end):\n",
    "    if (num == 1):\n",
    "        print(start, end)\n",
    "        return\n",
    "    hanoi(num-1, start, 6-start-end)\n",
    "    print(start, end)\n",
    "    hanoi(num-1, 6-start-end, end)\n",
    "    \n",
    "K = int(input())\n",
    "print(2**K-1)\n",
    "hanoi(K, 1, 3)"
   ]
  },
  {
   "cell_type": "code",
   "execution_count": 16,
   "metadata": {},
   "outputs": [
    {
     "name": "stdout",
     "output_type": "stream",
     "text": [
      "5 21\n",
      "5 6 7 8 9\n",
      "21\n"
     ]
    }
   ],
   "source": [
    "#2798\n",
    "N, M = map(int, input().split())\n",
    "arr = list(map(int, input().split()))\n",
    "result = 0\n",
    "\n",
    "for i in range (N):\n",
    "    for j in range (i+1, N):\n",
    "        for k in range(j+1, N):\n",
    "            if arr[i] + arr[j] + arr[k] > M:\n",
    "                continue\n",
    "            else:\n",
    "                result = max(result, arr[i]+arr[j]+arr[k])\n",
    "\n",
    "print(result)"
   ]
  },
  {
   "cell_type": "code",
   "execution_count": null,
   "metadata": {},
   "outputs": [],
   "source": []
  }
 ],
 "metadata": {
  "kernelspec": {
   "display_name": "Python 3",
   "language": "python",
   "name": "python3"
  },
  "language_info": {
   "codemirror_mode": {
    "name": "ipython",
    "version": 3
   },
   "file_extension": ".py",
   "mimetype": "text/x-python",
   "name": "python",
   "nbconvert_exporter": "python",
   "pygments_lexer": "ipython3",
   "version": "3.8.5"
  }
 },
 "nbformat": 4,
 "nbformat_minor": 4
}
